{
 "cells": [
  {
   "cell_type": "code",
   "execution_count": 1,
   "metadata": {},
   "outputs": [],
   "source": [
    "import os \n",
    "import sys \n",
    "\n",
    "import pandas as pd \n",
    "import numpy as np \n",
    "import matplotlib as plt \n",
    "%matplotlib inline \n",
    "\n",
    "import re\n",
    "import nltk \n",
    "from nltk.corpus import stopwords\n",
    "from nltk.stem import WordNetLemmatizer \n",
    "from sklearn.model_selection import train_test_split "
   ]
  },
  {
   "cell_type": "code",
   "execution_count": 2,
   "metadata": {},
   "outputs": [],
   "source": [
    "# Constants \n",
    "resume_data = \"..\\\\samples\\\\UpdatedResumeDataSet.csv\""
   ]
  },
  {
   "cell_type": "code",
   "execution_count": 3,
   "metadata": {},
   "outputs": [
    {
     "data": {
      "text/html": [
       "<div>\n",
       "<style scoped>\n",
       "    .dataframe tbody tr th:only-of-type {\n",
       "        vertical-align: middle;\n",
       "    }\n",
       "\n",
       "    .dataframe tbody tr th {\n",
       "        vertical-align: top;\n",
       "    }\n",
       "\n",
       "    .dataframe thead th {\n",
       "        text-align: right;\n",
       "    }\n",
       "</style>\n",
       "<table border=\"1\" class=\"dataframe\">\n",
       "  <thead>\n",
       "    <tr style=\"text-align: right;\">\n",
       "      <th></th>\n",
       "      <th>Category</th>\n",
       "      <th>Resume</th>\n",
       "    </tr>\n",
       "  </thead>\n",
       "  <tbody>\n",
       "    <tr>\n",
       "      <th>0</th>\n",
       "      <td>Data Science</td>\n",
       "      <td>Skills * Programming Languages: Python (pandas...</td>\n",
       "    </tr>\n",
       "    <tr>\n",
       "      <th>1</th>\n",
       "      <td>Data Science</td>\n",
       "      <td>Education Details \\r\\nMay 2013 to May 2017 B.E...</td>\n",
       "    </tr>\n",
       "    <tr>\n",
       "      <th>2</th>\n",
       "      <td>Data Science</td>\n",
       "      <td>Areas of Interest Deep Learning, Control Syste...</td>\n",
       "    </tr>\n",
       "    <tr>\n",
       "      <th>3</th>\n",
       "      <td>Data Science</td>\n",
       "      <td>Skills â¢ R â¢ Python â¢ SAP HANA â¢ Table...</td>\n",
       "    </tr>\n",
       "    <tr>\n",
       "      <th>4</th>\n",
       "      <td>Data Science</td>\n",
       "      <td>Education Details \\r\\n MCA   YMCAUST,  Faridab...</td>\n",
       "    </tr>\n",
       "    <tr>\n",
       "      <th>...</th>\n",
       "      <td>...</td>\n",
       "      <td>...</td>\n",
       "    </tr>\n",
       "    <tr>\n",
       "      <th>957</th>\n",
       "      <td>Testing</td>\n",
       "      <td>Computer Skills: â¢ Proficient in MS office (...</td>\n",
       "    </tr>\n",
       "    <tr>\n",
       "      <th>958</th>\n",
       "      <td>Testing</td>\n",
       "      <td>â Willingness to accept the challenges. â ...</td>\n",
       "    </tr>\n",
       "    <tr>\n",
       "      <th>959</th>\n",
       "      <td>Testing</td>\n",
       "      <td>PERSONAL SKILLS â¢ Quick learner, â¢ Eagerne...</td>\n",
       "    </tr>\n",
       "    <tr>\n",
       "      <th>960</th>\n",
       "      <td>Testing</td>\n",
       "      <td>COMPUTER SKILLS &amp; SOFTWARE KNOWLEDGE MS-Power ...</td>\n",
       "    </tr>\n",
       "    <tr>\n",
       "      <th>961</th>\n",
       "      <td>Testing</td>\n",
       "      <td>Skill Set OS Windows XP/7/8/8.1/10 Database MY...</td>\n",
       "    </tr>\n",
       "  </tbody>\n",
       "</table>\n",
       "<p>962 rows × 2 columns</p>\n",
       "</div>"
      ],
      "text/plain": [
       "         Category                                             Resume\n",
       "0    Data Science  Skills * Programming Languages: Python (pandas...\n",
       "1    Data Science  Education Details \\r\\nMay 2013 to May 2017 B.E...\n",
       "2    Data Science  Areas of Interest Deep Learning, Control Syste...\n",
       "3    Data Science  Skills â¢ R â¢ Python â¢ SAP HANA â¢ Table...\n",
       "4    Data Science  Education Details \\r\\n MCA   YMCAUST,  Faridab...\n",
       "..            ...                                                ...\n",
       "957       Testing  Computer Skills: â¢ Proficient in MS office (...\n",
       "958       Testing  â Willingness to accept the challenges. â ...\n",
       "959       Testing  PERSONAL SKILLS â¢ Quick learner, â¢ Eagerne...\n",
       "960       Testing  COMPUTER SKILLS & SOFTWARE KNOWLEDGE MS-Power ...\n",
       "961       Testing  Skill Set OS Windows XP/7/8/8.1/10 Database MY...\n",
       "\n",
       "[962 rows x 2 columns]"
      ]
     },
     "execution_count": 3,
     "metadata": {},
     "output_type": "execute_result"
    }
   ],
   "source": [
    "res_data = pd.read_csv(\"..\\\\samples\\\\UpdatedResumeDataSet.csv\")\n",
    "res_data"
   ]
  },
  {
   "cell_type": "code",
   "execution_count": 4,
   "metadata": {},
   "outputs": [
    {
     "name": "stdout",
     "output_type": "stream",
     "text": [
      "Number of unique jobs: 25\n"
     ]
    }
   ],
   "source": [
    "print(f\"Number of unique jobs: {len(res_data['Category'].unique())}\")"
   ]
  },
  {
   "cell_type": "code",
   "execution_count": 5,
   "metadata": {},
   "outputs": [
    {
     "name": "stdout",
     "output_type": "stream",
     "text": [
      "Java Developer               84\n",
      "Testing                      70\n",
      "DevOps Engineer              55\n",
      "Python Developer             48\n",
      "Web Designing                45\n",
      "HR                           44\n",
      "Hadoop                       42\n",
      "ETL Developer                40\n",
      "Mechanical Engineer          40\n",
      "Data Science                 40\n",
      "Operations Manager           40\n",
      "Blockchain                   40\n",
      "Sales                        40\n",
      "Arts                         36\n",
      "Database                     33\n",
      "PMO                          30\n",
      "Electrical Engineering       30\n",
      "Health and fitness           30\n",
      "DotNet Developer             28\n",
      "Business Analyst             28\n",
      "Automation Testing           26\n",
      "Network Security Engineer    25\n",
      "SAP Developer                24\n",
      "Civil Engineer               24\n",
      "Advocate                     20\n",
      "Name: Category, dtype: int64\n"
     ]
    }
   ],
   "source": [
    "print (res_data['Category'].value_counts())"
   ]
  },
  {
   "cell_type": "code",
   "execution_count": 6,
   "metadata": {},
   "outputs": [],
   "source": [
    "import re\n",
    "def cleanResume(resumeText):\n",
    "    resumeText = re.sub('http\\S+\\s*', ' ', resumeText)  # remove URLs\n",
    "    resumeText = re.sub('RT|cc', ' ', resumeText)  # remove RT and cc\n",
    "    resumeText = re.sub('@\\S+', '  ', resumeText)  # remove mentions\n",
    "    resumeText = re.sub('[%s]' % re.escape(\"\"\"!\"#$%&'()*+,-./:;<=>?@[\\]^_`{|}~\"\"\"), ' ', resumeText)  # remove punctuations\n",
    "    resumeText = re.sub(r'[^\\x00-\\x7f]',r' ', resumeText) \n",
    "    resumeText = re.sub('\\s+', ' ', resumeText)  # remove extra whitespace\n",
    "    return resumeText\n",
    "    \n",
    "res_data['cleaned_resume'] = res_data.Resume.apply(lambda x: cleanResume(x))"
   ]
  },
  {
   "cell_type": "code",
   "execution_count": 7,
   "metadata": {
    "scrolled": true
   },
   "outputs": [
    {
     "data": {
      "text/html": [
       "<div>\n",
       "<style scoped>\n",
       "    .dataframe tbody tr th:only-of-type {\n",
       "        vertical-align: middle;\n",
       "    }\n",
       "\n",
       "    .dataframe tbody tr th {\n",
       "        vertical-align: top;\n",
       "    }\n",
       "\n",
       "    .dataframe thead th {\n",
       "        text-align: right;\n",
       "    }\n",
       "</style>\n",
       "<table border=\"1\" class=\"dataframe\">\n",
       "  <thead>\n",
       "    <tr style=\"text-align: right;\">\n",
       "      <th></th>\n",
       "      <th>Category</th>\n",
       "      <th>Resume</th>\n",
       "      <th>cleaned_resume</th>\n",
       "    </tr>\n",
       "  </thead>\n",
       "  <tbody>\n",
       "    <tr>\n",
       "      <th>0</th>\n",
       "      <td>Data Science</td>\n",
       "      <td>Skills * Programming Languages: Python (pandas...</td>\n",
       "      <td>Skills Programming Languages Python pandas num...</td>\n",
       "    </tr>\n",
       "    <tr>\n",
       "      <th>1</th>\n",
       "      <td>Data Science</td>\n",
       "      <td>Education Details \\r\\nMay 2013 to May 2017 B.E...</td>\n",
       "      <td>Education Details May 2013 to May 2017 B E UIT...</td>\n",
       "    </tr>\n",
       "    <tr>\n",
       "      <th>2</th>\n",
       "      <td>Data Science</td>\n",
       "      <td>Areas of Interest Deep Learning, Control Syste...</td>\n",
       "      <td>Areas of Interest Deep Learning Control System...</td>\n",
       "    </tr>\n",
       "    <tr>\n",
       "      <th>3</th>\n",
       "      <td>Data Science</td>\n",
       "      <td>Skills â¢ R â¢ Python â¢ SAP HANA â¢ Table...</td>\n",
       "      <td>Skills R Python SAP HANA Tableau SAP HANA SQL ...</td>\n",
       "    </tr>\n",
       "    <tr>\n",
       "      <th>4</th>\n",
       "      <td>Data Science</td>\n",
       "      <td>Education Details \\r\\n MCA   YMCAUST,  Faridab...</td>\n",
       "      <td>Education Details MCA YMCAUST Faridabad Haryan...</td>\n",
       "    </tr>\n",
       "  </tbody>\n",
       "</table>\n",
       "</div>"
      ],
      "text/plain": [
       "       Category                                             Resume  \\\n",
       "0  Data Science  Skills * Programming Languages: Python (pandas...   \n",
       "1  Data Science  Education Details \\r\\nMay 2013 to May 2017 B.E...   \n",
       "2  Data Science  Areas of Interest Deep Learning, Control Syste...   \n",
       "3  Data Science  Skills â¢ R â¢ Python â¢ SAP HANA â¢ Table...   \n",
       "4  Data Science  Education Details \\r\\n MCA   YMCAUST,  Faridab...   \n",
       "\n",
       "                                      cleaned_resume  \n",
       "0  Skills Programming Languages Python pandas num...  \n",
       "1  Education Details May 2013 to May 2017 B E UIT...  \n",
       "2  Areas of Interest Deep Learning Control System...  \n",
       "3  Skills R Python SAP HANA Tableau SAP HANA SQL ...  \n",
       "4  Education Details MCA YMCAUST Faridabad Haryan...  "
      ]
     },
     "execution_count": 7,
     "metadata": {},
     "output_type": "execute_result"
    }
   ],
   "source": [
    "res_data.head()"
   ]
  },
  {
   "cell_type": "markdown",
   "metadata": {},
   "source": [
    "# Lemmatizing the text"
   ]
  },
  {
   "cell_type": "code",
   "execution_count": 8,
   "metadata": {},
   "outputs": [],
   "source": [
    "import nltk\n",
    "from nltk.corpus import wordnet\n",
    "def get_wordnet_pos(word):\n",
    "    \"\"\"Map POS tag to first character lemmatize() accepts\"\"\"\n",
    "    tag = nltk.pos_tag([word])[0][1][0].upper()\n",
    "    tag_dict = {\"J\": wordnet.ADJ,\n",
    "                \"N\": wordnet.NOUN,\n",
    "                \"V\": wordnet.VERB,\n",
    "                \"R\": wordnet.ADV}\n",
    "    return tag_dict.get(tag, wordnet.NOUN)\n"
   ]
  },
  {
   "cell_type": "markdown",
   "metadata": {},
   "source": [
    "# Returning the lemmatize words"
   ]
  },
  {
   "cell_type": "code",
   "execution_count": 9,
   "metadata": {},
   "outputs": [],
   "source": [
    "from nltk.stem.wordnet import WordNetLemmatizer\n",
    "from sklearn.feature_extraction.text import TfidfVectorizer\n",
    "from nltk.corpus import stopwords as stp\n",
    "\n",
    "\n",
    "lemmatizer = WordNetLemmatizer()\n",
    "analyzer = TfidfVectorizer().build_analyzer()\n",
    "def stemmed_words(doc):\n",
    "    return (lemmatizer.lemmatize(w,get_wordnet_pos(w)) for w in analyzer(doc) if w not in set(stp.words('english')))\n"
   ]
  },
  {
   "cell_type": "markdown",
   "metadata": {},
   "source": [
    "# Vectorizing the words using a custom tf_idf vectorizer function"
   ]
  },
  {
   "cell_type": "code",
   "execution_count": 10,
   "metadata": {},
   "outputs": [],
   "source": [
    "from sklearn.feature_extraction.text import TfidfVectorizer\n",
    "from sklearn.metrics.pairwise import cosine_similarity\n",
    "from nltk.stem.wordnet import WordNetLemmatizer\n",
    "from nltk.corpus import stopwords as stp\n",
    "\n",
    "def tf_vectorizer(doc):\n",
    "    tf_idf_vect = TfidfVectorizer(analyzer = stemmed_words, max_features=1500)\n",
    "    corpus_vector = tf_idf_vect.fit_transform(doc).todense()\n",
    "    \n",
    "    return corpus_vector"
   ]
  },
  {
   "cell_type": "markdown",
   "metadata": {},
   "source": [
    "# Label encoding"
   ]
  },
  {
   "cell_type": "code",
   "execution_count": 11,
   "metadata": {},
   "outputs": [],
   "source": [
    "from sklearn.preprocessing import LabelEncoder\n",
    "\n",
    "le = LabelEncoder()\n",
    "resumeDataSet = res_data.copy()\n",
    "resumeDataSet['Category'] = le.fit_transform(resumeDataSet['Category'])"
   ]
  },
  {
   "cell_type": "markdown",
   "metadata": {},
   "source": [
    "# Vectorize and split the data into labels and vectorized dat"
   ]
  },
  {
   "cell_type": "code",
   "execution_count": 34,
   "metadata": {},
   "outputs": [],
   "source": [
    "from sklearn.model_selection import train_test_split\n",
    "\n",
    "resume_corpus = resumeDataSet['cleaned_resume'].values\n",
    "resume_label = resumeDataSet['Category'].values\n",
    "\n",
    "tf_idf_vect = TfidfVectorizer(analyzer = stemmed_words, max_features=500)\n",
    "\n",
    "vectorized_res = tf_idf_vect.fit_transform(resume_corpus)"
   ]
  },
  {
   "cell_type": "markdown",
   "metadata": {},
   "source": [
    "# Split the data"
   ]
  },
  {
   "cell_type": "code",
   "execution_count": 41,
   "metadata": {},
   "outputs": [
    {
     "name": "stdout",
     "output_type": "stream",
     "text": [
      "(577, 500)\n",
      "(192, 500)\n"
     ]
    }
   ],
   "source": [
    "\n",
    "X_train,X_temp,y_train,y_temp = train_test_split(vectorized_res,resume_label,random_state=0, test_size = 0.4)\n",
    "X_test, X_valid, y_test, y_valid = train_test_split(X_temp, y_temp, random_state=0, test_size = 0.5)\n",
    "\n",
    "print(X_train.shape)\n",
    "print(X_test.shape)"
   ]
  },
  {
   "cell_type": "code",
   "execution_count": 42,
   "metadata": {},
   "outputs": [],
   "source": [
    "from sklearn.naive_bayes import MultinomialNB\n",
    "from sklearn.multiclass import OneVsRestClassifier\n",
    "from sklearn import metrics\n",
    "from sklearn.metrics import accuracy_score\n",
    "from pandas.plotting import scatter_matrix\n",
    "from sklearn.neighbors import KNeighborsClassifier\n",
    "from sklearn import metrics\n"
   ]
  },
  {
   "cell_type": "code",
   "execution_count": 37,
   "metadata": {
    "scrolled": true
   },
   "outputs": [
    {
     "name": "stdout",
     "output_type": "stream",
     "text": [
      "Accuracy of KNeighbors Classifier on training set: 0.98\n",
      "Accuracy of KNeighbors Classifier on test set: 0.98\n",
      "\n",
      " Classification report for classifier OneVsRestClassifier(estimator=KNeighborsClassifier()):\n",
      "              precision    recall  f1-score   support\n",
      "\n",
      "           0       0.00      0.00      0.00         1\n",
      "           1       1.00      1.00      1.00         4\n",
      "           2       1.00      0.80      0.89         5\n",
      "           3       1.00      1.00      1.00        12\n",
      "           4       1.00      0.62      0.77         8\n",
      "           5       1.00      1.00      1.00         6\n",
      "           6       1.00      1.00      1.00        10\n",
      "           7       1.00      1.00      1.00         6\n",
      "           8       1.00      1.00      1.00         9\n",
      "           9       1.00      1.00      1.00         6\n",
      "          10       1.00      1.00      1.00         7\n",
      "          11       0.89      1.00      0.94         8\n",
      "          12       1.00      1.00      1.00         7\n",
      "          13       1.00      1.00      1.00         8\n",
      "          14       1.00      1.00      1.00         3\n",
      "          15       1.00      1.00      1.00        16\n",
      "          16       1.00      1.00      1.00         7\n",
      "          17       1.00      1.00      1.00         3\n",
      "          18       1.00      1.00      1.00         5\n",
      "          19       0.50      1.00      0.67         3\n",
      "          20       1.00      1.00      1.00        11\n",
      "          21       1.00      1.00      1.00         5\n",
      "          22       0.94      1.00      0.97        15\n",
      "          23       1.00      1.00      1.00        14\n",
      "          24       1.00      1.00      1.00        13\n",
      "\n",
      "    accuracy                           0.97       192\n",
      "   macro avg       0.93      0.94      0.93       192\n",
      "weighted avg       0.98      0.97      0.97       192\n",
      "\n",
      "\n"
     ]
    },
    {
     "name": "stderr",
     "output_type": "stream",
     "text": [
      "C:\\Users\\vivek\\anaconda3\\lib\\site-packages\\sklearn\\metrics\\_classification.py:1221: UndefinedMetricWarning: Precision and F-score are ill-defined and being set to 0.0 in labels with no predicted samples. Use `zero_division` parameter to control this behavior.\n",
      "  _warn_prf(average, modifier, msg_start, len(result))\n"
     ]
    }
   ],
   "source": [
    "clf = OneVsRestClassifier(KNeighborsClassifier())\n",
    "clf.fit(X_train, y_train)\n",
    "prediction = clf.predict(X_test)\n",
    "print('Accuracy of KNeighbors Classifier on training set: {:.2f}'.format(clf.score(X_train, y_train)))\n",
    "print('Accuracy of KNeighbors Classifier on test set: {:.2f}'.format(clf.score(X_valid, y_valid)))\n",
    "\n",
    "print(\"\\n Classification report for classifier %s:\\n%s\\n\" % (clf, metrics.classification_report(y_test, prediction)))\n"
   ]
  },
  {
   "cell_type": "code",
   "execution_count": 43,
   "metadata": {},
   "outputs": [
    {
     "name": "stdout",
     "output_type": "stream",
     "text": [
      "Accuracy of KNeighbors Classifier on training set: 1.00\n",
      "Accuracy of KNeighbors Classifier on test set: 0.99\n",
      "\n",
      " Classification report for classifier OneVsRestClassifier(estimator=SVC()):\n",
      "              precision    recall  f1-score   support\n",
      "\n",
      "           0       1.00      1.00      1.00         4\n",
      "           1       1.00      1.00      1.00         5\n",
      "           2       0.83      1.00      0.91         5\n",
      "           3       1.00      1.00      1.00         9\n",
      "           4       1.00      1.00      1.00         5\n",
      "           5       1.00      1.00      1.00         7\n",
      "           6       1.00      1.00      1.00         8\n",
      "           7       1.00      1.00      1.00         5\n",
      "           8       1.00      0.82      0.90        11\n",
      "           9       1.00      1.00      1.00         6\n",
      "          10       1.00      1.00      1.00         8\n",
      "          11       1.00      1.00      1.00         9\n",
      "          12       1.00      1.00      1.00        13\n",
      "          13       1.00      1.00      1.00         8\n",
      "          14       1.00      1.00      1.00         8\n",
      "          15       1.00      1.00      1.00        19\n",
      "          16       1.00      1.00      1.00         7\n",
      "          17       1.00      1.00      1.00         5\n",
      "          18       1.00      1.00      1.00         8\n",
      "          19       1.00      1.00      1.00         8\n",
      "          20       1.00      1.00      1.00         6\n",
      "          21       1.00      1.00      1.00         3\n",
      "          22       1.00      1.00      1.00         7\n",
      "          23       1.00      1.00      1.00        14\n",
      "          24       0.83      1.00      0.91         5\n",
      "\n",
      "    accuracy                           0.99       193\n",
      "   macro avg       0.99      0.99      0.99       193\n",
      "weighted avg       0.99      0.99      0.99       193\n",
      "\n",
      "\n"
     ]
    }
   ],
   "source": [
    "from sklearn.svm import SVC\n",
    "model = OneVsRestClassifier(SVC())\n",
    "model.fit(X_train, y_train)\n",
    "prediction = model.predict(X_valid)\n",
    "print('Accuracy of KNeighbors Classifier on training set: {:.2f}'.format(model.score(X_train, y_train)))\n",
    "print('Accuracy of KNeighbors Classifier on test set: {:.2f}'.format(model.score(X_valid, y_valid)))\n",
    "\n",
    "print(\"\\n Classification report for classifier %s:\\n%s\\n\" % (model, metrics.classification_report(y_valid, prediction)))\n",
    "# print(\"Confusion matrix:\\n%s\" % metrics.confusion_matrix(y_test, prediction))"
   ]
  },
  {
   "cell_type": "code",
   "execution_count": 38,
   "metadata": {},
   "outputs": [
    {
     "data": {
      "image/png": "[encoded data removed]",
      "text/plain": [
       "<Figure size 720x720 with 1 Axes>"
      ]
     },
     "metadata": {
      "needs_background": "light"
     },
     "output_type": "display_data"
    }
   ],
   "source": [
    "from sklearn.metrics import roc_curve, roc_auc_score\n",
    "import matplotlib.pyplot as plt\n",
    "\n",
    "predict = clf.predict_proba(X_test)[:,1]\n",
    "false_positive_rate1, true_positive_rate1, threshold1 = roc_curve(y_test, predict, pos_label=24)\n",
    "\n",
    "plt.subplots(1, figsize=(10,10))\n",
    "plt.title('Receiver Operating Characteristic - DecisionTree')\n",
    "plt.plot(false_positive_rate1, true_positive_rate1, label = \"roc\")\n",
    "plt.plot([0, 1], ls=\"--\")\n",
    "plt.legend(loc=\"lower right\")\n",
    "plt.plot([0, 0], [1, 0] , c=\".7\"), plt.plot([1, 1] , c=\".7\")\n",
    "plt.ylabel('True Positive Rate')\n",
    "plt.xlabel('False Positive Rate')\n",
    "plt.show()"
   ]
  },
  {
   "cell_type": "code",
   "execution_count": 17,
   "metadata": {
    "scrolled": true
   },
   "outputs": [
    {
     "data": {
      "image/png": "[encoded data removed]",
      "text/plain": [
       "<Figure size 432x288 with 1 Axes>"
      ]
     },
     "metadata": {
      "needs_background": "light"
     },
     "output_type": "display_data"
    }
   ],
   "source": [
    "from sklearn.metrics import precision_recall_curve\n",
    "\n",
    "predict = clf.predict_proba(X_test)[:,1]\n",
    "#calculate precision and recall\n",
    "precision, recall, thresholds = precision_recall_curve(y_test, predict, pos_label = 22)\n",
    "\n",
    "#create precision recall curve\n",
    "fig, ax = plt.subplots()\n",
    "ax.plot(recall, precision, color='purple')\n",
    "\n",
    "#add axis labels to plot\n",
    "ax.set_title('Precision-Recall Curve')\n",
    "ax.set_ylabel('Precision')\n",
    "ax.set_xlabel('Recall')\n",
    "\n",
    "#display plot\n",
    "plt.show()"
   ]
  },
  {
   "cell_type": "markdown",
   "metadata": {},
   "source": [
    "# Using XGboost and GridSearchCV for Parameters"
   ]
  },
  {
   "cell_type": "code",
   "execution_count": 18,
   "metadata": {},
   "outputs": [
    {
     "name": "stdout",
     "output_type": "stream",
     "text": [
      "Fitting 10 folds for each of 96 candidates, totalling 960 fits\n"
     ]
    },
    {
     "name": "stderr",
     "output_type": "stream",
     "text": [
      "[Parallel(n_jobs=10)]: Using backend LokyBackend with 10 concurrent workers.\n",
      "[Parallel(n_jobs=10)]: Done  30 tasks      | elapsed:   26.8s\n",
      "[Parallel(n_jobs=10)]: Done 180 tasks      | elapsed:  2.7min\n",
      "[Parallel(n_jobs=10)]: Done 430 tasks      | elapsed:  7.5min\n",
      "[Parallel(n_jobs=10)]: Done 780 tasks      | elapsed: 15.3min\n",
      "[Parallel(n_jobs=10)]: Done 960 out of 960 | elapsed: 18.8min finished\n"
     ]
    },
    {
     "data": {
      "text/plain": [
       "GridSearchCV(cv=10,\n",
       "             estimator=XGBClassifier(base_score=None, booster=None,\n",
       "                                     callbacks=None, colsample_bylevel=None,\n",
       "                                     colsample_bynode=None,\n",
       "                                     colsample_bytree=None,\n",
       "                                     early_stopping_rounds=None,\n",
       "                                     enable_categorical=False, eval_metric=None,\n",
       "                                     gamma=None, gpu_id=None, grow_policy=None,\n",
       "                                     importance_type=None,\n",
       "                                     interaction_constraints=None,\n",
       "                                     learning_rate=None, max_bin=None,\n",
       "                                     max_c...\n",
       "                                     max_delta_step=None, max_depth=None,\n",
       "                                     max_leaves=None, min_child_weight=None,\n",
       "                                     missing=nan, monotone_constraints=None,\n",
       "                                     n_estimators=100, n_jobs=None, nthread=4,\n",
       "                                     num_parallel_tree=None, predictor=None,\n",
       "                                     random_state=None, reg_alpha=None, ...),\n",
       "             n_jobs=10,\n",
       "             param_grid={'learning_rate': [0.1, 0.01, 0.05],\n",
       "                         'max_depth': range(2, 10),\n",
       "                         'n_estimators': range(60, 220, 40)},\n",
       "             scoring='accuracy', verbose=True)"
      ]
     },
     "execution_count": 18,
     "metadata": {},
     "output_type": "execute_result"
    }
   ],
   "source": [
    "from xgboost import XGBClassifier\n",
    "from sklearn.model_selection import GridSearchCV\n",
    "\n",
    "estimator = XGBClassifier(\n",
    "    objective= 'binary:logistic',\n",
    "    nthread=4,\n",
    "    seed=42\n",
    ")\n",
    "\n",
    "parameters = {\n",
    "    'max_depth': range (2, 10, 1),\n",
    "    'n_estimators': range(60, 220, 40),\n",
    "    'learning_rate': [0.1, 0.01, 0.05]\n",
    "}\n",
    "\n",
    "grid_search = GridSearchCV(\n",
    "    estimator=estimator,\n",
    "    param_grid=parameters,\n",
    "    scoring = 'accuracy',\n",
    "    n_jobs = 10,\n",
    "    cv = 10,\n",
    "    verbose=True\n",
    ")\n",
    "\n",
    "grid_search.fit(X_train, y_train)"
   ]
  },
  {
   "cell_type": "code",
   "execution_count": null,
   "metadata": {},
   "outputs": [],
   "source": []
  },
  {
   "cell_type": "markdown",
   "metadata": {},
   "source": [
    "# Trying to add more data to tackle the overfitting of the model"
   ]
  },
  {
   "cell_type": "code",
   "execution_count": 19,
   "metadata": {},
   "outputs": [],
   "source": [
    "import textract\n",
    "import re\n",
    "\n",
    "def get_content_as_string(filename):\n",
    "    text = textract.process(filename)\n",
    "    lower_case_string =  str(text.decode('utf-8')).lower()\n",
    "    #final_string = re.sub('[^a-zA-Z0-9 \\n]', '', lower_case_string)\n",
    "    return lower_case_string"
   ]
  },
  {
   "cell_type": "code",
   "execution_count": 20,
   "metadata": {},
   "outputs": [],
   "source": [
    "import warnings\n",
    "warnings.simplefilter(action='ignore', category=FutureWarning)\n",
    "\n",
    "job_types = ['java', 'sre', 'data_science_analyst', 'devops']\n",
    "\n",
    "df_dict = {}\n",
    "df_dict['Category'] = []\n",
    "df_dict['resume'] = []\n",
    "\n",
    "resume_file_path = \"C:\\\\Users\\\\vivek\\\\Desktop\\\\resume_ranking\\\\samples\\\\resumes_sample\"\n",
    "jd_file_path = \"C:\\\\Users\\\\vivek\\\\Desktop\\\\resume_ranking\\\\samples\\\\job_descriptions\"\n",
    "\n",
    "\n",
    "for resume_type in job_types:\n",
    "    \n",
    "    resume_directory = os.path.join(resume_file_path, resume_type)\n",
    "    resume = \"\"\n",
    "    \n",
    "    for file in os.listdir(resume_directory):\n",
    "        resume = resume_directory + \"\\\\\" + file \n",
    "        text = get_content_as_string(resume)\n",
    "        df_dict['Category'].append(resume_type)\n",
    "        df_dict['resume'].append(text)\n",
    "    \n",
    "igd_df = pd.DataFrame(df_dict)"
   ]
  },
  {
   "cell_type": "code",
   "execution_count": 21,
   "metadata": {},
   "outputs": [],
   "source": [
    "igd_df['cleaned_resume'] = igd_df.resume.apply(lambda x: cleanResume(x))"
   ]
  },
  {
   "cell_type": "code",
   "execution_count": 22,
   "metadata": {},
   "outputs": [],
   "source": [
    "igd_df.rename(columns = {'resume':'Resume'}, inplace = True)"
   ]
  },
  {
   "cell_type": "code",
   "execution_count": 23,
   "metadata": {},
   "outputs": [
    {
     "data": {
      "text/html": [
       "<div>\n",
       "<style scoped>\n",
       "    .dataframe tbody tr th:only-of-type {\n",
       "        vertical-align: middle;\n",
       "    }\n",
       "\n",
       "    .dataframe tbody tr th {\n",
       "        vertical-align: top;\n",
       "    }\n",
       "\n",
       "    .dataframe thead th {\n",
       "        text-align: right;\n",
       "    }\n",
       "</style>\n",
       "<table border=\"1\" class=\"dataframe\">\n",
       "  <thead>\n",
       "    <tr style=\"text-align: right;\">\n",
       "      <th></th>\n",
       "      <th>Category</th>\n",
       "      <th>Resume</th>\n",
       "      <th>cleaned_resume</th>\n",
       "    </tr>\n",
       "  </thead>\n",
       "  <tbody>\n",
       "    <tr>\n",
       "      <th>0</th>\n",
       "      <td>Data Science</td>\n",
       "      <td>Skills * Programming Languages: Python (pandas...</td>\n",
       "      <td>Skills Programming Languages Python pandas num...</td>\n",
       "    </tr>\n",
       "    <tr>\n",
       "      <th>1</th>\n",
       "      <td>Data Science</td>\n",
       "      <td>Education Details \\r\\nMay 2013 to May 2017 B.E...</td>\n",
       "      <td>Education Details May 2013 to May 2017 B E UIT...</td>\n",
       "    </tr>\n",
       "    <tr>\n",
       "      <th>2</th>\n",
       "      <td>Data Science</td>\n",
       "      <td>Areas of Interest Deep Learning, Control Syste...</td>\n",
       "      <td>Areas of Interest Deep Learning Control System...</td>\n",
       "    </tr>\n",
       "    <tr>\n",
       "      <th>3</th>\n",
       "      <td>Data Science</td>\n",
       "      <td>Skills â¢ R â¢ Python â¢ SAP HANA â¢ Table...</td>\n",
       "      <td>Skills R Python SAP HANA Tableau SAP HANA SQL ...</td>\n",
       "    </tr>\n",
       "    <tr>\n",
       "      <th>4</th>\n",
       "      <td>Data Science</td>\n",
       "      <td>Education Details \\r\\n MCA   YMCAUST,  Faridab...</td>\n",
       "      <td>Education Details MCA YMCAUST Faridabad Haryan...</td>\n",
       "    </tr>\n",
       "    <tr>\n",
       "      <th>...</th>\n",
       "      <td>...</td>\n",
       "      <td>...</td>\n",
       "      <td>...</td>\n",
       "    </tr>\n",
       "    <tr>\n",
       "      <th>1100</th>\n",
       "      <td>devops</td>\n",
       "      <td>professional summary\\r\\n•\\r\\n\\r\\noverall: 9.5 ...</td>\n",
       "      <td>professional summary overall 9 5 years of it e...</td>\n",
       "    </tr>\n",
       "    <tr>\n",
       "      <th>1101</th>\n",
       "      <td>devops</td>\n",
       "      <td>devops engineer\\r\\n\\r\\nobjective\\r\\n\\r\\nobject...</td>\n",
       "      <td>devops engineer objective objective looking fo...</td>\n",
       "    </tr>\n",
       "    <tr>\n",
       "      <th>1102</th>\n",
       "      <td>devops</td>\n",
       "      <td>aws devops engineer\\r\\ncareer objectives\\r\\nto...</td>\n",
       "      <td>aws devops engineer career objectives to work ...</td>\n",
       "    </tr>\n",
       "    <tr>\n",
       "      <th>1103</th>\n",
       "      <td>devops</td>\n",
       "      <td>sre/ devops dummy\\r\\nprofessional summary:\\r\\n...</td>\n",
       "      <td>sre devops dummy professional summary over all...</td>\n",
       "    </tr>\n",
       "    <tr>\n",
       "      <th>1104</th>\n",
       "      <td>devops</td>\n",
       "      <td>devops/ sre dummy\\r\\nprofessional summary:\\r\\n...</td>\n",
       "      <td>devops sre dummy professional summary having 5...</td>\n",
       "    </tr>\n",
       "  </tbody>\n",
       "</table>\n",
       "<p>1105 rows × 3 columns</p>\n",
       "</div>"
      ],
      "text/plain": [
       "          Category                                             Resume  \\\n",
       "0     Data Science  Skills * Programming Languages: Python (pandas...   \n",
       "1     Data Science  Education Details \\r\\nMay 2013 to May 2017 B.E...   \n",
       "2     Data Science  Areas of Interest Deep Learning, Control Syste...   \n",
       "3     Data Science  Skills â¢ R â¢ Python â¢ SAP HANA â¢ Table...   \n",
       "4     Data Science  Education Details \\r\\n MCA   YMCAUST,  Faridab...   \n",
       "...            ...                                                ...   \n",
       "1100        devops  professional summary\\r\\n•\\r\\n\\r\\noverall: 9.5 ...   \n",
       "1101        devops  devops engineer\\r\\n\\r\\nobjective\\r\\n\\r\\nobject...   \n",
       "1102        devops  aws devops engineer\\r\\ncareer objectives\\r\\nto...   \n",
       "1103        devops  sre/ devops dummy\\r\\nprofessional summary:\\r\\n...   \n",
       "1104        devops  devops/ sre dummy\\r\\nprofessional summary:\\r\\n...   \n",
       "\n",
       "                                         cleaned_resume  \n",
       "0     Skills Programming Languages Python pandas num...  \n",
       "1     Education Details May 2013 to May 2017 B E UIT...  \n",
       "2     Areas of Interest Deep Learning Control System...  \n",
       "3     Skills R Python SAP HANA Tableau SAP HANA SQL ...  \n",
       "4     Education Details MCA YMCAUST Faridabad Haryan...  \n",
       "...                                                 ...  \n",
       "1100  professional summary overall 9 5 years of it e...  \n",
       "1101  devops engineer objective objective looking fo...  \n",
       "1102  aws devops engineer career objectives to work ...  \n",
       "1103  sre devops dummy professional summary over all...  \n",
       "1104  devops sre dummy professional summary having 5...  \n",
       "\n",
       "[1105 rows x 3 columns]"
      ]
     },
     "execution_count": 23,
     "metadata": {},
     "output_type": "execute_result"
    }
   ],
   "source": [
    "combined_res_data = pd.concat([res_data, igd_df], ignore_index = True)\n",
    "combined_res_data"
   ]
  },
  {
   "cell_type": "markdown",
   "metadata": {},
   "source": [
    "## Now that we have 117 more resumes in the data, we'll try to retrace our steps"
   ]
  },
  {
   "cell_type": "code",
   "execution_count": 24,
   "metadata": {},
   "outputs": [
    {
     "data": {
      "text/plain": [
       "java                         89\n",
       "Java Developer               84\n",
       "Testing                      70\n",
       "DevOps Engineer              55\n",
       "Python Developer             48\n",
       "Web Designing                45\n",
       "HR                           44\n",
       "Hadoop                       42\n",
       "Operations Manager           40\n",
       "Blockchain                   40\n",
       "Sales                        40\n",
       "Data Science                 40\n",
       "Mechanical Engineer          40\n",
       "ETL Developer                40\n",
       "Arts                         36\n",
       "Database                     33\n",
       "PMO                          30\n",
       "Electrical Engineering       30\n",
       "Health and fitness           30\n",
       "Business Analyst             28\n",
       "DotNet Developer             28\n",
       "Automation Testing           26\n",
       "Network Security Engineer    25\n",
       "SAP Developer                24\n",
       "Civil Engineer               24\n",
       "data_science_analyst         23\n",
       "Advocate                     20\n",
       "devops                       18\n",
       "sre                          13\n",
       "Name: Category, dtype: int64"
      ]
     },
     "execution_count": 24,
     "metadata": {},
     "output_type": "execute_result"
    }
   ],
   "source": [
    "combined_res_data['Category'].value_counts()"
   ]
  },
  {
   "cell_type": "code",
   "execution_count": 25,
   "metadata": {},
   "outputs": [
    {
     "data": {
      "text/plain": [
       "29"
      ]
     },
     "execution_count": 25,
     "metadata": {},
     "output_type": "execute_result"
    }
   ],
   "source": [
    "len(combined_res_data['Category'].unique())"
   ]
  },
  {
   "cell_type": "code",
   "execution_count": 26,
   "metadata": {},
   "outputs": [],
   "source": [
    "combined_res_data = combined_res_data.replace(['data_science_analyst'], 'Data Science')"
   ]
  },
  {
   "cell_type": "code",
   "execution_count": 27,
   "metadata": {},
   "outputs": [
    {
     "data": {
      "text/plain": [
       "java                         89\n",
       "Java Developer               84\n",
       "Testing                      70\n",
       "Data Science                 63\n",
       "DevOps Engineer              55\n",
       "Python Developer             48\n",
       "Web Designing                45\n",
       "HR                           44\n",
       "Hadoop                       42\n",
       "Operations Manager           40\n",
       "Blockchain                   40\n",
       "Sales                        40\n",
       "Mechanical Engineer          40\n",
       "ETL Developer                40\n",
       "Arts                         36\n",
       "Database                     33\n",
       "PMO                          30\n",
       "Electrical Engineering       30\n",
       "Health and fitness           30\n",
       "Business Analyst             28\n",
       "DotNet Developer             28\n",
       "Automation Testing           26\n",
       "Network Security Engineer    25\n",
       "SAP Developer                24\n",
       "Civil Engineer               24\n",
       "Advocate                     20\n",
       "devops                       18\n",
       "sre                          13\n",
       "Name: Category, dtype: int64"
      ]
     },
     "execution_count": 27,
     "metadata": {},
     "output_type": "execute_result"
    }
   ],
   "source": [
    "combined_res_data['Category'].value_counts()"
   ]
  },
  {
   "cell_type": "code",
   "execution_count": 28,
   "metadata": {},
   "outputs": [],
   "source": [
    "from sklearn.preprocessing import LabelEncoder\n",
    "\n",
    "le = LabelEncoder()\n",
    "combined_res_data['Category'] = le.fit_transform(combined_res_data['Category'])"
   ]
  },
  {
   "cell_type": "code",
   "execution_count": 29,
   "metadata": {},
   "outputs": [],
   "source": [
    "from sklearn.model_selection import train_test_split\n",
    "\n",
    "combined_resume_corpus = combined_res_data['cleaned_resume'].values\n",
    "combined_resume_label = combined_res_data['Category'].values\n",
    "\n",
    "tf_idf_vect = TfidfVectorizer(analyzer = stemmed_words, max_features=200)\n",
    "\n",
    "vectorized_res = tf_idf_vect.fit_transform(combined_resume_corpus)"
   ]
  },
  {
   "cell_type": "code",
   "execution_count": 30,
   "metadata": {},
   "outputs": [
    {
     "name": "stdout",
     "output_type": "stream",
     "text": [
      "(663, 200)\n",
      "(221, 200)\n"
     ]
    }
   ],
   "source": [
    "\n",
    "X_train,X_temp,y_train,y_temp = train_test_split(vectorized_res,combined_resume_label,random_state=0, test_size = 0.4)\n",
    "X_test, X_valid, y_test, y_valid = train_test_split(X_temp, y_temp, random_state=0, test_size = 0.5)\n",
    "\n",
    "print(X_train.shape)\n",
    "print(X_test.shape)"
   ]
  },
  {
   "cell_type": "code",
   "execution_count": 31,
   "metadata": {
    "scrolled": true
   },
   "outputs": [
    {
     "name": "stdout",
     "output_type": "stream",
     "text": [
      "Accuracy of KNeighbors Classifier on training set: 0.94\n",
      "Accuracy of KNeighbors Classifier on test set: 0.91\n",
      "\n",
      " Classification report for classifier OneVsRestClassifier(estimator=KNeighborsClassifier()):\n",
      "              precision    recall  f1-score   support\n",
      "\n",
      "           0       0.50      0.40      0.44         5\n",
      "           1       0.40      1.00      0.57         2\n",
      "           2       0.80      1.00      0.89         4\n",
      "           3       1.00      1.00      1.00         7\n",
      "           4       0.80      0.80      0.80         5\n",
      "           5       1.00      1.00      1.00         4\n",
      "           6       0.87      0.93      0.90        14\n",
      "           7       0.86      0.86      0.86         7\n",
      "           8       1.00      0.83      0.91        12\n",
      "           9       0.80      0.67      0.73         6\n",
      "          10       1.00      1.00      1.00         3\n",
      "          11       1.00      1.00      1.00         8\n",
      "          12       1.00      0.58      0.74        12\n",
      "          13       1.00      1.00      1.00         8\n",
      "          14       0.89      1.00      0.94         8\n",
      "          15       0.94      1.00      0.97        17\n",
      "          16       1.00      1.00      1.00        11\n",
      "          17       1.00      1.00      1.00         3\n",
      "          18       1.00      1.00      1.00         6\n",
      "          19       1.00      1.00      1.00         6\n",
      "          20       0.75      1.00      0.86         9\n",
      "          21       1.00      1.00      1.00         6\n",
      "          22       1.00      1.00      1.00         8\n",
      "          23       1.00      1.00      1.00        15\n",
      "          24       1.00      1.00      1.00        11\n",
      "          25       0.75      0.75      0.75         4\n",
      "          26       0.88      0.94      0.91        16\n",
      "          27       0.50      0.25      0.33         4\n",
      "\n",
      "    accuracy                           0.91       221\n",
      "   macro avg       0.88      0.89      0.88       221\n",
      "weighted avg       0.92      0.91      0.91       221\n",
      "\n",
      "\n"
     ]
    }
   ],
   "source": [
    "clf = OneVsRestClassifier(KNeighborsClassifier())\n",
    "clf.fit(X_train, y_train)\n",
    "prediction = clf.predict(X_valid)\n",
    "print('Accuracy of KNeighbors Classifier on training set: {:.2f}'.format(clf.score(X_train, y_train)))\n",
    "print('Accuracy of KNeighbors Classifier on test set: {:.2f}'.format(clf.score(X_valid, y_valid)))\n",
    "\n",
    "print(\"\\n Classification report for classifier %s:\\n%s\\n\" % (clf, metrics.classification_report(y_valid, prediction)))\n",
    "# print(\"Confusion matrix:\\n%s\" % metrics.confusion_matrix(y_test, prediction))"
   ]
  },
  {
   "cell_type": "code",
   "execution_count": 32,
   "metadata": {
    "scrolled": false
   },
   "outputs": [
    {
     "data": {
      "image/png": "[encoded data removed]",
      "text/plain": [
       "<Figure size 720x720 with 1 Axes>"
      ]
     },
     "metadata": {
      "needs_background": "light"
     },
     "output_type": "display_data"
    }
   ],
   "source": [
    "from sklearn.metrics import roc_curve, roc_auc_score\n",
    "import matplotlib.pyplot as plt\n",
    "\n",
    "predict = clf.predict_proba(X_test)[:,1]\n",
    "false_positive_rate1, true_positive_rate1, threshold1 = roc_curve(y_test, predict, pos_label=2)\n",
    "\n",
    "plt.subplots(1, figsize=(10,10))\n",
    "plt.title('Receiver Operating Characteristic - DecisionTree')\n",
    "plt.plot(false_positive_rate1, true_positive_rate1, label = \"roc\")\n",
    "plt.plot([0, 1], ls=\"--\")\n",
    "plt.legend(loc=\"lower right\")\n",
    "plt.plot([0, 0], [1, 0] , c=\".7\"), plt.plot([1, 1] , c=\".7\")\n",
    "plt.ylabel('True Positive Rate')\n",
    "plt.xlabel('False Positive Rate')\n",
    "plt.show()"
   ]
  },
  {
   "cell_type": "code",
   "execution_count": 33,
   "metadata": {},
   "outputs": [
    {
     "data": {
      "image/png": "[encoded data removed]",
      "text/plain": [
       "<Figure size 432x288 with 1 Axes>"
      ]
     },
     "metadata": {
      "needs_background": "light"
     },
     "output_type": "display_data"
    }
   ],
   "source": [
    "from sklearn.metrics import precision_recall_curve\n",
    "\n",
    "predict = clf.predict_proba(X_test)[:,1]\n",
    "#calculate precision and recall\n",
    "precision, recall, thresholds = precision_recall_curve(y_test, predict, pos_label = 22)\n",
    "\n",
    "#create precision recall curve\n",
    "fig, ax = plt.subplots()\n",
    "ax.plot(recall, precision, color='purple')\n",
    "\n",
    "#add axis labels to plot\n",
    "ax.set_title('Precision-Recall Curve')\n",
    "ax.set_ylabel('Precision')\n",
    "ax.set_xlabel('Recall')\n",
    "\n",
    "#display plot\n",
    "plt.show()"
   ]
  },
  {
   "cell_type": "code",
   "execution_count": 40,
   "metadata": {},
   "outputs": [
    {
     "name": "stdout",
     "output_type": "stream",
     "text": [
      "Accuracy of KNeighbors Classifier on training set: 1.00\n",
      "Accuracy of KNeighbors Classifier on test set: 0.99\n",
      "\n",
      " Classification report for classifier OneVsRestClassifier(estimator=SVC()):\n",
      "              precision    recall  f1-score   support\n",
      "\n",
      "           0       1.00      1.00      1.00         4\n",
      "           1       1.00      1.00      1.00         5\n",
      "           2       0.83      1.00      0.91         5\n",
      "           3       1.00      1.00      1.00         9\n",
      "           4       1.00      1.00      1.00         5\n",
      "           5       1.00      1.00      1.00         7\n",
      "           6       1.00      1.00      1.00         8\n",
      "           7       1.00      1.00      1.00         5\n",
      "           8       1.00      0.82      0.90        11\n",
      "           9       1.00      1.00      1.00         6\n",
      "          10       1.00      1.00      1.00         8\n",
      "          11       1.00      1.00      1.00         9\n",
      "          12       1.00      1.00      1.00        13\n",
      "          13       1.00      1.00      1.00         8\n",
      "          14       1.00      1.00      1.00         8\n",
      "          15       1.00      1.00      1.00        19\n",
      "          16       1.00      1.00      1.00         7\n",
      "          17       1.00      1.00      1.00         5\n",
      "          18       1.00      1.00      1.00         8\n",
      "          19       1.00      1.00      1.00         8\n",
      "          20       1.00      1.00      1.00         6\n",
      "          21       1.00      1.00      1.00         3\n",
      "          22       1.00      1.00      1.00         7\n",
      "          23       1.00      1.00      1.00        14\n",
      "          24       0.83      1.00      0.91         5\n",
      "\n",
      "    accuracy                           0.99       193\n",
      "   macro avg       0.99      0.99      0.99       193\n",
      "weighted avg       0.99      0.99      0.99       193\n",
      "\n",
      "\n"
     ]
    }
   ],
   "source": [
    "from sklearn.svm import SVC\n",
    "model = OneVsRestClassifier(SVC())\n",
    "model.fit(X_train, y_train)\n",
    "prediction = model.predict(X_valid)\n",
    "print('Accuracy of KNeighbors Classifier on training set: {:.2f}'.format(model.score(X_train, y_train)))\n",
    "print('Accuracy of KNeighbors Classifier on test set: {:.2f}'.format(model.score(X_valid, y_valid)))\n",
    "\n",
    "print(\"\\n Classification report for classifier %s:\\n%s\\n\" % (model, metrics.classification_report(y_valid, prediction)))\n",
    "# print(\"Confusion matrix:\\n%s\" % metrics.confusion_matrix(y_test, prediction))"
   ]
  },
  {
   "cell_type": "code",
   "execution_count": null,
   "metadata": {},
   "outputs": [],
   "source": []
  }
 ],
 "metadata": {
  "kernelspec": {
   "display_name": "Python 3",
   "language": "python",
   "name": "python3"
  },
  "language_info": {
   "codemirror_mode": {
    "name": "ipython",
    "version": 3
   },
   "file_extension": ".py",
   "mimetype": "text/x-python",
   "name": "python",
   "nbconvert_exporter": "python",
   "pygments_lexer": "ipython3",
   "version": "3.8.5"
  }
 },
 "nbformat": 4,
 "nbformat_minor": 5
}
